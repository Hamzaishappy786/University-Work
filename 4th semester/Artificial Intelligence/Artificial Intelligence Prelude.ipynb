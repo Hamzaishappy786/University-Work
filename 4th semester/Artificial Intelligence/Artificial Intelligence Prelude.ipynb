{
 "cells": [
  {
   "cell_type": "markdown",
   "id": "8b17048b",
   "metadata": {},
   "source": [
    "## This lab is just a prelude about our previous knowledge of python\n",
    "\n",
    "In this lab, our purpose was to make adjacency matrix after understanding the code of adjacency list for a graph.\n",
    "* This was the code snippet given by our lab attendant/supervisor"
   ]
  },
  {
   "cell_type": "code",
   "execution_count": null,
   "id": "4c9df706",
   "metadata": {},
   "outputs": [],
   "source": []
  },
  {
   "cell_type": "code",
   "execution_count": null,
   "id": "7fa19d7d",
   "metadata": {},
   "outputs": [],
   "source": [
    "def add_vertex(v):\n",
    "    global graph, vertex_no\n",
    "    if v in graph:\n",
    "        print(\"Vertex already in the graph\")\n",
    "    else:\n",
    "        vertex_no = vertex_no + 1\n",
    "        graph[v] = []\n",
    "\n",
    "\n",
    "def add_edge(v1, v2, enw):  #enw is for the 'edges and weights'\n",
    "    global graph, adjacency_matrix\n",
    "    if v1 not in graph and v2 not in graph:     #1st change in the code, checking both of vertices, whether they exist\n",
    "        print(\"Vertex does not exist\")\n",
    "    else:\n",
    "        temp = [v2, enw]\n",
    "        graph[v1].append(temp)\n",
    "        adjacency_matrix[v1 - 1][v2 - 1] = enw\n",
    "\n",
    "\n",
    "def print_graph():\n",
    "    global graph\n",
    "    for vertex in graph:\n",
    "        for edge in graph[vertex]:\n",
    "            print(vertex, \"-\", edge[0], edge[1])\n",
    "\n",
    "\n",
    "def print_matrix():\n",
    "    global adjacency_matrix  # made another global 2D-matrix for storing data inside a graph\n",
    "    for row in adjacency_matrix:\n",
    "        print(row)\n",
    "\n",
    "\n",
    "if __name__ == '__main__':\n",
    "    ##### Code given by Sir Asif\n",
    "    graph = {}\n",
    "    vertex_no = 0\n",
    "\n",
    "    #Code altered by me\n",
    "    adjacency_matrix = []   #2D- matrix for storing my data of graph\n",
    "    for value in range(4):      #Loop for filling out the values of tables, 4 is for 4 vertices\n",
    "        row_element = [0] * 4        #multiplied it by zero to get the absolute weight in the matrix\n",
    "        adjacency_matrix.append(row_element)\n",
    "\n",
    "    #The rest of the code remains same\n",
    "    add_vertex(1)\n",
    "    add_vertex(2)\n",
    "    add_vertex(3)\n",
    "    add_vertex(4)\n",
    "\n",
    "    add_edge(1, 2, 1)\n",
    "    add_edge(1, 3, 1)\n",
    "    add_edge(2, 3, 3)\n",
    "    add_edge(3, 4, 4)\n",
    "    add_edge(4, 1, 5)\n",
    "\n",
    "    print(\"Adjacency Matrix:\")\n",
    "    print_matrix()"
   ]
  }
 ],
 "metadata": {
  "kernelspec": {
   "display_name": "Python 3 (ipykernel)",
   "language": "python",
   "name": "python3"
  },
  "language_info": {
   "codemirror_mode": {
    "name": "ipython",
    "version": 3
   },
   "file_extension": ".py",
   "mimetype": "text/x-python",
   "name": "python",
   "nbconvert_exporter": "python",
   "pygments_lexer": "ipython3",
   "version": "3.11.4"
  }
 },
 "nbformat": 4,
 "nbformat_minor": 5
}
