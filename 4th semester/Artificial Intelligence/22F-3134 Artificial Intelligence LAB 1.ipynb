{
 "cells": [
  {
   "cell_type": "markdown",
   "id": "d4d67836",
   "metadata": {},
   "source": [
    "   # Vaccum Cleaner"
   ]
  },
  {
   "cell_type": "markdown",
   "id": "49cb9169",
   "metadata": {},
   "source": [
    "* The task was to basically create a simple Vacuum Cleaner, that scans dirt from 2 places, left and right of the room.\n",
    "* It will randomly detect dirt and that will conclude it's performance percentage.\n",
    "\n",
    "                    The first task here is about the vaccum cleaner working for only one room."
   ]
  },
  {
   "cell_type": "code",
   "execution_count": 1,
   "id": "51856489",
   "metadata": {},
   "outputs": [
    {
     "name": "stdout",
     "output_type": "stream",
     "text": [
      "Enter the side to start from ('left' or 'right'): lef\n",
      "Invalid input. Please enter 'left' or 'right'.\n",
      "Enter the side to start from ('left' or 'right'): left\n",
      "[['left'], ['right']]\n",
      "['dirty', 'clean']\n",
      "Working in room: left\n",
      "Room is dirty. Sucking dirt.\n",
      "\n",
      "Working in room: right\n",
      "Room is clean. Moving to the other side.\n",
      "\n",
      "Status: Both rooms are now clean.\n",
      "Room:  [['left'], ['right']]\n",
      "Status: ['clean', 'clean']\n",
      "Performance: =  50.0 %\n"
     ]
    }
   ],
   "source": [
    "import random\n",
    "\n",
    "room = [['left'], ['right']]\n",
    "\n",
    "start_side = input(\"Enter the side to start from ('left' or 'right'): \")\n",
    "while start_side not in ['left', 'right']:\n",
    "    print(\"Invalid input. Please enter 'left' or 'right'.\")\n",
    "    start_side = input(\"Enter the side to start from ('left' or 'right'): \")\n",
    "\n",
    "list_for_rooms = [random.choice(['clean', 'dirty']) for i in range(2)]\n",
    "\n",
    "print(room)\n",
    "print(list_for_rooms)\n",
    "\n",
    "cleaned_count = 0\n",
    "\n",
    "for i in range(2):\n",
    "    print(f\"Working in room: {room[i][0]}\")\n",
    "    if list_for_rooms[i] == 'clean':\n",
    "        print(\"Room is clean. Moving to the other side.\")\n",
    "        print()\n",
    "    else:\n",
    "        print(\"Room is dirty. Sucking dirt.\")\n",
    "        list_for_rooms[i] = 'clean'\n",
    "        cleaned_count += 1\n",
    "        print()\n",
    "\n",
    "performance = (cleaned_count / 2) * 100\n",
    "\n",
    "print('Status: Both rooms are now clean.')\n",
    "print('Room: ', room)\n",
    "print('Status:', list_for_rooms)\n",
    "print('Performance: = ', performance, '%')"
   ]
  },
  {
   "cell_type": "markdown",
   "id": "d9a31e7c",
   "metadata": {},
   "source": [
    "## The second task, you can see right here is for the vaccum cleaner working for multiple rooms, in which where we tell them where to start cleaning."
   ]
  },
  {
   "cell_type": "code",
   "execution_count": 2,
   "id": "3ce9203a",
   "metadata": {},
   "outputs": [
    {
     "name": "stdout",
     "output_type": "stream",
     "text": [
      "Enter the number of rooms to clean: 3\n",
      "Enter the side to start from ('left' or 'right'): left\n",
      "\n",
      " [['left'], ['right']]\n",
      "  ['dirty', 'dirty']\n",
      "Working in room 1: left\n",
      "Room number 1 is dirty. Sucking dirt.\n",
      "\n",
      "Working in room 1: right\n",
      "Room number 1 is dirty. Sucking dirt.\n",
      "\n",
      "Enter the side to start from ('left' or 'right'): right\n",
      "\n",
      " [['left'], ['right']]\n",
      "  ['dirty', 'dirty']\n",
      "Working in room 2: left\n",
      "Room number 2 is dirty. Sucking dirt.\n",
      "\n",
      "Working in room 2: right\n",
      "Room number 2 is dirty. Sucking dirt.\n",
      "\n",
      "Enter the side to start from ('left' or 'right'): left\n",
      "\n",
      " [['left'], ['right']]\n",
      "  ['clean', 'clean']\n",
      "Working in room 3: left\n",
      "Room number 3 is clean. Moving to the other side.\n",
      "\n",
      "Working in room 3: right\n",
      "Room number 3 is clean. Moving to the other side.\n",
      "\n",
      "Status: All rooms are now clean.\n",
      "Room:  [['left'], ['right']]\n",
      "Status: ['clean', 'clean']\n",
      "Performance: =  66.66666666666666 %\n"
     ]
    }
   ],
   "source": [
    "import random\n",
    "\n",
    "#class created for Vaccum Cleaner\n",
    "class VaccumCleaner:\n",
    "    def __init__(self):\n",
    "        self.room = [['left'], ['right']]  #for directions of room\n",
    "        self.cleaning_performance = 0   #for checking it's detection ability\n",
    "    \n",
    "    def clean_room(self):  #for checking the number of cleaned boxes\n",
    "        cleaned_count = 0\n",
    "        \n",
    "        for rooms in range(0, self.num_rooms):  #loop for getting data, randomly on where dirt is located\n",
    "            start_side = input(\"Enter the side to start from ('left' or 'right'): \")\n",
    "            while start_side not in ['left', 'right']:\n",
    "                print(\"Invalid input. Please enter 'left' or 'right'.\")\n",
    "                start_side = input(\"Enter the side to start from ('left' or 'right'): \")\n",
    "            \n",
    "            list_for_rooms = [random.choice(['clean', 'dirty']) for i in range(2)]\n",
    "            \n",
    "            print(\"\\n\",self.room)\n",
    "            print(\" \", list_for_rooms)\n",
    "            \n",
    "            for i in range(2):  # For telling status in which room vacuum cleaner is working\n",
    "                print(f\"Working in room {rooms + 1}: {self.room[i][0]}\")\n",
    "                if list_for_rooms[i] == 'clean':\n",
    "                    print(f\"Room number {rooms + 1} is clean. Moving to the other side.\")\n",
    "                    print()\n",
    "                else:\n",
    "                    print(f\"Room number {rooms + 1} is dirty. Sucking dirt.\")\n",
    "                    list_for_rooms[i] = 'clean'\n",
    "                    cleaned_count += 1\n",
    "                    print()\n",
    "        \n",
    "        self.cleaning_performance = (cleaned_count / (2 * self.num_rooms)) * 100  #perfomace calculation\n",
    "        #Status of our Vacuum Cleaner\n",
    "        print('Status: All rooms are now clean.')\n",
    "        print('Room: ', self.room)\n",
    "        print('Status:', list_for_rooms)\n",
    "        print('Performance: = ', self.cleaning_performance, '%')\n",
    "    \n",
    "    def set_num_rooms(self, num_rooms):\n",
    "        self.num_rooms = num_rooms\n",
    "\n",
    "if __name__ == \"__main__\":\n",
    "    cleaner = VaccumCleaner()\n",
    "    num_rooms = int(input(\"Enter the number of rooms to clean: \"))\n",
    "    cleaner.set_num_rooms(num_rooms)\n",
    "    cleaner.clean_room()"
   ]
  }
 ],
 "metadata": {
  "kernelspec": {
   "display_name": "Python 3 (ipykernel)",
   "language": "python",
   "name": "python3"
  },
  "language_info": {
   "codemirror_mode": {
    "name": "ipython",
    "version": 3
   },
   "file_extension": ".py",
   "mimetype": "text/x-python",
   "name": "python",
   "nbconvert_exporter": "python",
   "pygments_lexer": "ipython3",
   "version": "3.11.4"
  }
 },
 "nbformat": 4,
 "nbformat_minor": 5
}
