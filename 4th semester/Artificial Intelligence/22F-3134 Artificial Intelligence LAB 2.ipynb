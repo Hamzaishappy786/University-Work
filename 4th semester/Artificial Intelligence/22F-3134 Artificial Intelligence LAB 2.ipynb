{
 "cells": [
  {
   "cell_type": "code",
   "execution_count": 43,
   "id": "b90f9269",
   "metadata": {},
   "outputs": [
    {
     "name": "stdout",
     "output_type": "stream",
     "text": [
      "A B D E C F G "
     ]
    }
   ],
   "source": [
    "def dfs(dict, start, visited = None):\n",
    "    if visited is None:\n",
    "        visited = []\n",
    "        \n",
    "    print(start, end = \" \")\n",
    "    \n",
    "    unvisited_neighbors = [i for i in dict[start] if i not in visited]\n",
    "    a = [dfs(dict, i, visited) for i in unvisited_neighbors]\n",
    "    \n",
    "dict = {'A' : ['B', 'C'], 'B' : ['D', 'E'], 'C' : ['F', 'G'], 'D' : [], 'E' : [], 'F' : [], 'G' : []}\n",
    "dfs(dict, 'A')"
   ]
  },
  {
   "cell_type": "code",
   "execution_count": 9,
   "id": "4544f2bb",
   "metadata": {},
   "outputs": [
    {
     "name": "stdout",
     "output_type": "stream",
     "text": [
      "1 3 45 "
     ]
    }
   ],
   "source": [
    "def printing_even_indexes(arr, index):\n",
    "    if index >= len(arr):\n",
    "        return\n",
    "    print(arr[index], end = \" \")\n",
    "    printing_even_indexes(arr, index + 2)\n",
    "arr = [1,4,3,4,45,56]\n",
    "printing_even_indexes(arr, 0)"
   ]
  },
  {
   "cell_type": "code",
   "execution_count": 11,
   "id": "a2a201c8",
   "metadata": {},
   "outputs": [
    {
     "name": "stdout",
     "output_type": "stream",
     "text": [
      "34\n",
      "6\n",
      "4\n",
      "56\n"
     ]
    }
   ],
   "source": [
    "def odd_values(arr, index):\n",
    "    if len(arr) <= index:\n",
    "        return\n",
    "    if arr[index] % 2 == 0:\n",
    "        print(arr[index])\n",
    "    odd_values(arr, index + 1)\n",
    "    \n",
    "arr = [3243,345,34,6,4,57,56]\n",
    "odd_values(arr, 0)"
   ]
  },
  {
   "cell_type": "code",
   "execution_count": 40,
   "id": "b8ecbea5",
   "metadata": {},
   "outputs": [
    {
     "name": "stdout",
     "output_type": "stream",
     "text": [
      "A B D E C F G "
     ]
    }
   ],
   "source": [
    "def dfs(dict, start):\n",
    "    stack = [start]\n",
    "    \n",
    "    while stack:\n",
    "        vertex = stack.pop()\n",
    "        if dict[vertex] != 'visited':\n",
    "            print(vertex, end = \" \")\n",
    "            dict['vertex'] = 'visited'\n",
    "            for i in reversed(dict[vertex]):\n",
    "                stack.append(i)\n",
    "dict = {'A' : ['B', 'C'], 'B' : ['D', 'E'], 'C' : ['F', 'G'], 'D' : [], 'E' : [], 'F' : [], 'G' : []}\n",
    "dfs(dict, 'A')"
   ]
  },
  {
   "cell_type": "code",
   "execution_count": 51,
   "id": "5f9ef6fb",
   "metadata": {},
   "outputs": [
    {
     "name": "stdout",
     "output_type": "stream",
     "text": [
      "A B D E C F G "
     ]
    }
   ],
   "source": [
    "def dfs(dict, start):\n",
    "    stack = [start]\n",
    "    \n",
    "    while stack:\n",
    "        vertex = stack.pop()\n",
    "        if dict[vertex] != 'visited':\n",
    "            print(vertex, end = \" \")\n",
    "            dict['vertex'] = 'visited'\n",
    "            for i in reversed(dict[vertex]):\n",
    "                stack.append(i)\n",
    "dict = {'A' : ['B', 'C'], 'B' : ['D', 'E'], 'C' : ['F', 'G'], 'D' : [], 'E' : [], 'F' : [], 'G' : []}\n",
    "dfs(dict, 'A')"
   ]
  },
  {
   "cell_type": "code",
   "execution_count": 67,
   "id": "5df2f792",
   "metadata": {},
   "outputs": [
    {
     "name": "stdout",
     "output_type": "stream",
     "text": [
      "Visiting: A\n",
      "Visiting: B\n",
      "Goal reached: E\n"
     ]
    }
   ],
   "source": [
    "def dls(dict, start, goal, depth_limit):\n",
    "    visited = set()\n",
    "    stack = [(start, 0)]\n",
    "    \n",
    "    while stack:\n",
    "        vertex, depth = stack.pop()\n",
    "        \n",
    "        if vertex == goal:\n",
    "            print('Goal reached:', vertex)\n",
    "            return True\n",
    "        \n",
    "        if depth < depth_limit and vertex not in visited:\n",
    "            print('Visiting:', vertex)\n",
    "            visited.add(vertex)\n",
    "            for i in reversed(dict[vertex]):\n",
    "                stack.append((i, depth + 1))\n",
    "    print('Goal not found within depth limit.')\n",
    "    return False\n",
    "dict = {'A' : ['B', 'C'], 'B' : ['D', 'E'], 'C' : ['F', 'G'], 'D' : [], 'E' : [], 'F' : [], 'G' : []}\n",
    "found = dls(dict, 'A', 'E', 2)"
   ]
  }
 ],
 "metadata": {
  "kernelspec": {
   "display_name": "Python 3 (ipykernel)",
   "language": "python",
   "name": "python3"
  },
  "language_info": {
   "codemirror_mode": {
    "name": "ipython",
    "version": 3
   },
   "file_extension": ".py",
   "mimetype": "text/x-python",
   "name": "python",
   "nbconvert_exporter": "python",
   "pygments_lexer": "ipython3",
   "version": "3.11.4"
  }
 },
 "nbformat": 4,
 "nbformat_minor": 5
}
