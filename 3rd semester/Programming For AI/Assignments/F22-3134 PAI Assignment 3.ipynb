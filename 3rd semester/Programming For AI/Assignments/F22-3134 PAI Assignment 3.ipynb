{
 "cells": [
  {
   "cell_type": "code",
   "execution_count": 1,
   "id": "526a2636",
   "metadata": {},
   "outputs": [
    {
     "name": "stdout",
     "output_type": "stream",
     "text": [
      "Enter the radius of the circle: 23.4\n",
      "Area of the circle:  1720.4335199999998\n",
      "Circumference of the circle:  147.04559999999998\n"
     ]
    }
   ],
   "source": [
    "#Question 1\n",
    "#Part(a)\n",
    "class Shape:\n",
    "    def __init__(self, radius):\n",
    "        self.radius = radius\n",
    "    def calculate_area(self):\n",
    "        return (3.142) * (self.radius ** 2) #Formula of area of a cricle = πr^2\n",
    "    def calculate_perimeter(self):\n",
    "        return 2 * 3.142 * self.radius      #Formula of perimeter of a circle = 2πr\n",
    "class Circle(Shape):\n",
    "    def __init__(self, radius):\n",
    "        super().__init__(radius)\n",
    "    def calculate_circumference(self):       #since perimeter and circumference of a circle are same\n",
    "        return super().calculate_perimeter() # I inherited the perimeter function from parent class\n",
    "\n",
    "radius = float(input(\"Enter the radius of the circle: \"))\n",
    "circle = Circle(radius)\n",
    "print(\"Area of the circle: \", circle.calculate_area())\n",
    "print(\"Circumference of the circle: \", circle.calculate_circumference())"
   ]
  },
  {
   "cell_type": "code",
   "execution_count": 21,
   "id": "095c30a0",
   "metadata": {},
   "outputs": [
    {
     "name": "stdout",
     "output_type": "stream",
     "text": [
      "Enter the starting balance: 2000\n",
      "Menu:\n",
      "1 Deposit\n",
      "2 Withdrawal\n",
      "0 Exit\n",
      "Enter your choice:1\n",
      "Enter the amount you wnat to deposit: 3000\n",
      "\n",
      "Status:\n",
      "Balance: 2000.0\n",
      "Amount deposited: 3000.0\n",
      "\n",
      "Status:\n",
      "Balance after depositing: 5000.0.\n",
      "\n",
      "Menu:\n",
      "1 Deposit\n",
      "2 Withdrawal\n",
      "0 Exit\n",
      "Enter your choice:2\n",
      "Enter the amount you want to withdraw:5000\n",
      "\n",
      "Status:\n",
      "Balance: 5000.0\n",
      "Amount withdrawn: 5000.0\n",
      "\n",
      "Status:\n",
      "Balance after wothdrawal: 0.0\n",
      "\n",
      "Menu:\n",
      "1 Deposit\n",
      "2 Withdrawal\n",
      "0 Exit\n",
      "Enter your choice:0\n"
     ]
    }
   ],
   "source": [
    "#Question 1\n",
    "#Part(b)\n",
    "class BankAccount:\n",
    "    def __init__(self, starting_balance = 0.0):  #0 should be the starting balance, if not added\n",
    "        self.balance = starting_balance\n",
    "    def deposit(self, amount):\n",
    "        print(\"\\nStatus:\")     #first showing the status of the amount\n",
    "        print(f\"Balance: {self.balance}Rs\")     #then asking to deposit the amount\n",
    "        print(f\"Amount deposited: {amount}Rs\\n\")  #then displaying the actual amount deposited\n",
    "        self.balance = self.balance + amount\n",
    "        print(\"Status:\")   #finally showing updated balance after deposit\n",
    "        print(f\"Balance after depositing: {self.balance}Rs.\\n\")\n",
    "    def withdrawal(self, amount):\n",
    "        if amount > self.balance:   #not possible if amount to be taken out is more than actual balance\n",
    "            print(\"Insufficient balance. Cannot withdraw that much amount.\\n\")\n",
    "            print(\"\\nStatus:\")\n",
    "            print(f\"Total Balance: {self.balance}Rs\")\n",
    "            print(f\"Amount withdrawn: 0Rs\\n\")\n",
    "        else:\n",
    "            print(\"\\nStatus:\")   #else if smaller or equal than actual balance\n",
    "            print(f\"Balance: {self.balance}Rs\")\n",
    "            print(f\"Amount withdrawn: {amount}Rs\\n\")\n",
    "            self.balance = self.balance - amount    #amount will be withdrawn\n",
    "            print(\"Status:\")\n",
    "            print(f\"Balance after withdrawal: {self.balance}Rs\\n\")  #status after withdrawal\n",
    "\n",
    "initial_balance = float(input(\"Enter the starting balance: \"))\n",
    "ba_Hamza = BankAccount(initial_balance)\n",
    "while True:\n",
    "    print(\"Menu:\")\n",
    "    print(\"1 Deposit\")\n",
    "    print(\"2 Withdrawal\")\n",
    "    print(\"0 Exit\")\n",
    "    choice = int(input(\"Enter your choice:\"))\n",
    "    if choice == 1:\n",
    "        amount = float(input(\"Enter the amount you wnat to deposit: \"))\n",
    "        ba_Hamza.deposit(amount)\n",
    "    elif choice == 2:\n",
    "        amount = float(input(\"Enter the amount you want to withdraw:\"))\n",
    "        ba_Hamza.withdrawal(amount)\n",
    "    elif choice == 0:\n",
    "        print(\"Thanks for using our system. Allah Hafiz :)\")\n",
    "        break\n",
    "    elif:\n",
    "        print(\"Please enter the right option.\\n\")"
   ]
  },
  {
   "cell_type": "code",
   "execution_count": 3,
   "id": "3049a4d6",
   "metadata": {},
   "outputs": [
    {
     "name": "stdout",
     "output_type": "stream",
     "text": [
      "Enter the name of the person: Hamza\n",
      "Enter the age: 20\n",
      "Person: Hamza\n",
      "Age: 20\n",
      "Enter the name of the person: Rasikh\n",
      "Person: Rasikh\n",
      "Age: Unknown.\n"
     ]
    }
   ],
   "source": [
    "#Question 1\n",
    "#Part(c)\n",
    "class Person:\n",
    "    def __init__(self, name, age = None):   #if age isn't given None will be in age\n",
    "        self.name = name\n",
    "        self.age = age\n",
    "    def __str__(self):    #using dender functions, because why not\n",
    "        if self.age is None:  #if age is none, then Unknown shall be printed\n",
    "            return f\"Person: {self.name}\\nAge: Unknown.\"\n",
    "        else:                 #else actual info about a person i.e: name and age will be printed\n",
    "            return f\"Person: {self.name}\\nAge: {self.age}\"\n",
    "\n",
    "while(True):\n",
    "    name = str(input(\"Enter the name of the person: \"))\n",
    "    age = int(input(\"Enter the age: \"))\n",
    "    Guy = Person(name, int(age))\n",
    "    print(Guy)\n",
    "name = str(input(\"Enter the name of the person: \"))\n",
    "Second_guy = Person(name)\n",
    "print(Second_guy)"
   ]
  },
  {
   "cell_type": "code",
   "execution_count": 4,
   "id": "163a8a2b",
   "metadata": {},
   "outputs": [
    {
     "name": "stdout",
     "output_type": "stream",
     "text": [
      "Enter the lenght: 76.2\n",
      "Enter the width: 12.4\n",
      "Area of rectangle: 944.8800000000001\n",
      "Enter the radius of the circle: 23.134\n",
      "Area of circle: 1681.541705752\n"
     ]
    }
   ],
   "source": [
    "#Question 1\n",
    "#Part(d)\n",
    "class Shape:\n",
    "    def area(self):   #just a method named area for function overriding\n",
    "        pass\n",
    "class Rectangle(Shape):\n",
    "    def __init__(self, length, width):\n",
    "        self.length = length\n",
    "        self.width = width\n",
    "    def area(self):\n",
    "        return self.length * self.width  #Formula of area of a rectangle = length * width\n",
    "class Circle(Shape):\n",
    "    def __init__(self, radius):\n",
    "        self.radius = radius\n",
    "    def area(self):\n",
    "        return 3.142 * (radius ** 2)    #Formula of area of a cricle = πr^2\n",
    "\n",
    "length = float(input(\"Enter the lenght: \"))\n",
    "width = float(input(\"Enter the width: \"))\n",
    "rectangle = Rectangle(length, width)\n",
    "print(\"Area of rectangle:\", rectangle.area())\n",
    "\n",
    "radius = float(input(\"Enter the radius of the circle: \"))\n",
    "circle = Circle(radius)\n",
    "print(\"Area of circle:\", circle.area())"
   ]
  },
  {
   "cell_type": "code",
   "execution_count": 24,
   "id": "681bec36",
   "metadata": {},
   "outputs": [
    {
     "name": "stdout",
     "output_type": "stream",
     "text": [
      "Enter the name of the car: Toyota\n",
      "Enter the name of the bicycle: BMX\n",
      "Toyota's engine started.\n",
      "BMX bicycle peddling.\n",
      "\n",
      "Enter the type of fuel for Toyota: Petrol\n",
      "\n",
      "Toyota's engine started.\n",
      "BMX's  bicycle peddling.\n",
      "Status:\n",
      "This is a Toyota vechile.\n",
      "It's a hybrid car.\n",
      "Toyota's fuel type is Petrol.\n"
     ]
    }
   ],
   "source": [
    "#Question 2\n",
    "class Vechile:\n",
    "    def __init__(self, brand):\n",
    "        self.brand = brand\n",
    "    def info(self):    #function created for function overriding\n",
    "        print(f\"This is a {self.brand} vechile.\")\n",
    "class Car(Vechile):\n",
    "    def __init__(self, brand):  #setting vechile name in the class\n",
    "        super().__init__(brand)\n",
    "    def engine_started(self):   #Engine started by inheriting vechile\n",
    "        print(f\"{self.brand}'s engine started.\")\n",
    "class Bicycle(Vechile):\n",
    "    def pedal(self):   #didn't included a constructor because of brand name\n",
    "        print(\" bicycle peddling.\")\n",
    "class Hybrid(Car, Bicycle):\n",
    "    def __init__(self, brand, fuel_type):\n",
    "        Car.__init__(self, brand)\n",
    "        Bicycle.__init__(self, brand)\n",
    "        self.fuel_type = fuel_type\n",
    "    def info(self):\n",
    "        print(\"Status:\")\n",
    "        Vechile.info(self)\n",
    "        print(f\"It's a hybrid car.\\n{self.brand}'s fuel type is {self.fuel_type}.\")\n",
    "\n",
    "car = str(input(\"Enter the name of the car: \"))\n",
    "toyota = Car(car)\n",
    "bicycle = str(input(\"Enter the name of the bicycle: \"))\n",
    "BMX = Bicycle(bicycle)\n",
    "\n",
    "toyota.engine_started()\n",
    "print(bicycle, end = \"\")\n",
    "BMX.pedal()\n",
    "print(\"\")\n",
    "fuel_type = str(input(f\"Enter the type of fuel for {car}: \"))\n",
    "print(\"\")\n",
    "hybrid_car = Hybrid(car, fuel_type)\n",
    "hybrid_car.engine_started()\n",
    "print(bicycle, end = \"'s \")\n",
    "hybrid_car.pedal()\n",
    "hybrid_car.info()"
   ]
  },
  {
   "cell_type": "code",
   "execution_count": 25,
   "id": "d600b4eb",
   "metadata": {},
   "outputs": [
    {
     "name": "stdout",
     "output_type": "stream",
     "text": [
      "Twenty elements array: [ 1  2  3  4  5  6  7  8  9 10 11 12 13 14 15 16 17 18 19 20]\n",
      "Reshaped arary:\n",
      " [[ 1  2  3  4  5]\n",
      " [ 6  7  8  9 10]\n",
      " [11 12 13 14 15]\n",
      " [16 17 18 19 20]]\n"
     ]
    }
   ],
   "source": [
    "#Question 3\n",
    "#Part(a)\n",
    "import numpy as np\n",
    "array_20 = np.array([1,2,3,4,5,6,7,8,9,10,11,12,13,14,15,16,17,18,19,20])  #array with 20 integers\n",
    "print(\"Twenty elements array:\", array_20)  #printing put the array\n",
    "reshaped_4x5 = array_20.reshape(4,5)    #reshaping it into 4 rows and 5 columns\n",
    "print(\"Reshaped arary:\\n\", reshaped_4x5)"
   ]
  },
  {
   "cell_type": "code",
   "execution_count": 7,
   "id": "612934f6",
   "metadata": {},
   "outputs": [
    {
     "name": "stdout",
     "output_type": "stream",
     "text": [
      "Array: [68]\n",
      "Maximum number in array: 68\n",
      "Minimum number in array: 68\n"
     ]
    }
   ],
   "source": [
    "#Question 3\n",
    "#Part(b)\n",
    "random_array_size = np.random.randint(0,10) #for total number of elements in the array\n",
    "random_number_array = np.array(np.random.randint(1,101, size = random_array_size))  #creating an array between 1 and 100\n",
    "print(\"Array:\", random_number_array)\n",
    "print(\"Maximum number in array:\", random_number_array.max())   #printing max\n",
    "print(\"Minimum number in array:\", random_number_array.min())   #printing min"
   ]
  },
  {
   "cell_type": "code",
   "execution_count": 8,
   "id": "c163b4d4",
   "metadata": {},
   "outputs": [
    {
     "name": "stdout",
     "output_type": "stream",
     "text": [
      "[343  65  67 876  67]\n"
     ]
    }
   ],
   "source": [
    "#Question 3\n",
    "#Part(c)\n",
    "array = np.array([343,5,65,7,67,876,8,67,7,46])\n",
    "greater_than_50 = array > 50   #masking elements greater than 50\n",
    "print(array[greater_than_50])"
   ]
  },
  {
   "cell_type": "code",
   "execution_count": 9,
   "id": "6198354e",
   "metadata": {},
   "outputs": [
    {
     "name": "stdout",
     "output_type": "stream",
     "text": [
      "[[11 22 33]\n",
      " [14 25 36]\n",
      " [17 28 39]]\n"
     ]
    }
   ],
   "source": [
    "#Question 3\n",
    "#Part(d)\n",
    "#Broadcasting in numpy allows us to bend the rules of array operations as we can perform element-wise\n",
    "#operations without any replication of data. We just need to get the 'large dimension' of that thing right.\n",
    "\n",
    "array_2d = np.array([[1,2,3],[4,5,6], [7,8,9]])\n",
    "array_1d = np.array([[10,20,30]])\n",
    "result_array = array_1d + array_2d\n",
    "print(result_array)\n",
    "\n",
    "#as you can see here, element-wise operations are performed one by one in a way that we use array with large \n",
    "#dimensions. As we can see [10,20,30] seperately adds up with [1,2,3],[4,5,6],[7,8,9]\n",
    "#[1 + 10, 2 + 20, 3 + 30] = [11, 22, 33]\n",
    "#[4 + 10, 5 + 20, 6 + 30] = [14, 25, 36]\n",
    "#[7 + 10, 8 + 20, 9 + 30] = [17, 28, 39]"
   ]
  },
  {
   "cell_type": "code",
   "execution_count": 18,
   "id": "9b94d6c4",
   "metadata": {},
   "outputs": [
    {
     "name": "stdout",
     "output_type": "stream",
     "text": [
      "[  1   4   9  16  25  36  49  64  81 100 121 144 169 196 225 256 289 324\n",
      " 361 400]\n"
     ]
    }
   ],
   "source": [
    "#Question 3\n",
    "#Part(e)\n",
    "new_array = np.array(array_20 ** 2)   #used same array of 20 integers and squared them\n",
    "print(new_array)"
   ]
  },
  {
   "cell_type": "code",
   "execution_count": 11,
   "id": "f9c49780",
   "metadata": {},
   "outputs": [
    {
     "name": "stdout",
     "output_type": "stream",
     "text": [
      "  Series_reference   Period  Data_value Suppressed STATUS\n",
      "0      BDCQ.SEA1AA  2011.06     80078.0        NaN      F\n",
      "1      BDCQ.SEA1AA  2011.09     78324.0        NaN      F\n",
      "2      BDCQ.SEA1AA  2011.12     85850.0        NaN      F\n",
      "3      BDCQ.SEA1AA  2012.03     90743.0        NaN      F\n",
      "4      BDCQ.SEA1AA  2012.06     81780.0        NaN      F\n"
     ]
    }
   ],
   "source": [
    "#Question 4\n",
    "#Part(a)\n",
    "import pandas as pd\n",
    "data = pd.read_csv(\"machine-readable-business-employment-data-jun-2023-quarter.csv\")\n",
    "print(data.head())  #head command used for dislaying first five cells of csv file"
   ]
  },
  {
   "cell_type": "code",
   "execution_count": 19,
   "id": "466439fc",
   "metadata": {},
   "outputs": [
    {
     "name": "stdout",
     "output_type": "stream",
     "text": [
      "Actual data:\n",
      "       Name   Age   GPA\n",
      "0      John  17.9  2.71\n",
      "1      Jane  18.1  3.73\n",
      "2     Sarah  17.6  2.64\n",
      "3     Frank  32.1  3.68\n",
      "4      Mike  18.2  3.46\n",
      "5  Jennifer  35.0  4.24\n",
      "6   Jessica  37.3   NaN\n",
      "7      Fred  19.2  2.54\n",
      "8       Bob  34.0  3.24\n",
      "\n",
      "\n",
      "Data after filetering age grater than 30:\n",
      "       Name   Age   GPA\n",
      "3     Frank  32.1  3.68\n",
      "5  Jennifer  35.0  4.24\n",
      "6   Jessica  37.3   NaN\n",
      "8       Bob  34.0  3.24\n"
     ]
    }
   ],
   "source": [
    "#Question 4\n",
    "#Part(b)\n",
    "st_data = pd.read_csv(\"students data.csv\")\n",
    "print(\"Actual data:\")\n",
    "print(st_data)   #total data\n",
    "mask = st_data[st_data[\"Age\"] > 30]  #mask applied\n",
    "print(\"\\n\\nData after filetering age grater than 30:\")\n",
    "print(mask)  #required data"
   ]
  },
  {
   "cell_type": "code",
   "execution_count": 30,
   "id": "2dcc241a",
   "metadata": {},
   "outputs": [
    {
     "name": "stdout",
     "output_type": "stream",
     "text": [
      "Region\n",
      "Asia                                  59967\n",
      "Australia and Oceania                 68325\n",
      "Central America and the Caribbean     35771\n",
      "Europe                                98117\n",
      "Middle East and North Africa          48678\n",
      "North America                         19143\n",
      "Sub-Saharan Africa                   177503\n",
      "Name: Sales, dtype: int64\n"
     ]
    }
   ],
   "source": [
    "#Question 4\n",
    "#Part(c)\n",
    "store_data = pd.read_csv(\"100 Sales Records.csv\")\n",
    "total_sales = store_data.groupby(\"Region\")[\"Sales\"]  #grouping by region's sales\n",
    "sum_of_total_sales = total_sales.sum()   #adding sales with the same region\n",
    "print(sum_of_total_sales)"
   ]
  },
  {
   "cell_type": "code",
   "execution_count": 2,
   "id": "8ff28b8c",
   "metadata": {},
   "outputs": [
    {
     "name": "stdout",
     "output_type": "stream",
     "text": [
      "Customer's data:\n",
      "    Customer ID    Customer Name\n",
      "0         2012   Muhammad Hamza\n",
      "1         2013  Muhammad Harris\n",
      "2         2014          Khurram\n",
      "3         2015            Basil\n",
      "\n",
      "Customer's orders:\n",
      "    Order ID  Customer ID\n",
      "0        23         2012\n",
      "1        34         2013\n",
      "2        21         2014\n",
      "3        24         2015\n",
      "\n",
      "Merged data:\n",
      "    Customer ID    Customer Name  Order ID\n",
      "0         2012   Muhammad Hamza        23\n",
      "1         2013  Muhammad Harris        34\n",
      "2         2014          Khurram        21\n",
      "3         2015            Basil        24\n"
     ]
    }
   ],
   "source": [
    "#Question 4\n",
    "#Part(d)\n",
    "import pandas as pd\n",
    "customer_data = pd.read_csv('Customer.csv')\n",
    "customers_df = pd.DataFrame(customer_data)   #created one data frame with id's and names\n",
    "print(\"Customer's data:\\n\", customers_df)\n",
    "order_data = pd.read_csv('Order.csv')\n",
    "orders_df = pd.DataFrame(order_data)   #created one data frame with order id's and customer's ids\n",
    "print(\"\\nCustomer's orders:\\n\", orders_df)\n",
    "print(\"\\nMerged data:\\n\",pd.merge(customers_df, orders_df))   #merging data"
   ]
  }
 ],
 "metadata": {
  "kernelspec": {
   "display_name": "Python 3 (ipykernel)",
   "language": "python",
   "name": "python3"
  },
  "language_info": {
   "codemirror_mode": {
    "name": "ipython",
    "version": 3
   },
   "file_extension": ".py",
   "mimetype": "text/x-python",
   "name": "python",
   "nbconvert_exporter": "python",
   "pygments_lexer": "ipython3",
   "version": "3.11.4"
  }
 },
 "nbformat": 4,
 "nbformat_minor": 5
}
